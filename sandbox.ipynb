{
 "cells": [
  {
   "cell_type": "code",
   "execution_count": null,
   "id": "6f757cb3",
   "metadata": {},
   "outputs": [],
   "source": [
    "#from langchain.llms import GooglePalm\n",
    "import os\n",
    "from dotenv import load_dotenv\n",
    "load_dotenv() \n",
    "from langchain.utilities import SQLDatabase\n",
    "from langchain_google_genai import ChatGoogleGenerativeAI\n",
    "from langchain_openai import ChatOpenAI\n",
    "from langchain.agents import create_sql_agent\n"
   ]
  },
  {
   "cell_type": "code",
   "execution_count": 54,
   "id": "fa92bd48",
   "metadata": {},
   "outputs": [
    {
     "data": {
      "text/plain": [
       "ChatGoogleGenerativeAI(model='models/gemini-2.0-flash-exp', google_api_key=SecretStr('**********'), temperature=0.0, client=<google.ai.generativelanguage_v1beta.services.generative_service.client.GenerativeServiceClient object at 0x11ff40c50>, default_metadata=())"
      ]
     },
     "execution_count": 54,
     "metadata": {},
     "output_type": "execute_result"
    }
   ],
   "source": [
    "api_key = os.environ[\"gemini_key\"]\n",
    "llm = ChatGoogleGenerativeAI(model=\"gemini-2.0-flash-exp\",google_api_key=api_key, temperature=0)\n",
    "#llm = ChatOpenAI(model=\"gpt-4o-mini\")\n",
    "llm"
   ]
  },
  {
   "cell_type": "code",
   "execution_count": 55,
   "id": "fe5223dd",
   "metadata": {},
   "outputs": [
    {
     "data": {
      "text/plain": [
       "AIMessage(content=\"Okay, here's a ballad about LangChain, with a touch of the dramatic and a sprinkle of tech-speak:\\n\\n**(The Ballad of the Chain of Language)**\\n\\nThe world was vast, a sea of text,\\nA swirling chaos, complex and vexed.\\nFrom ancient lore to modern tweet,\\nInformation flowed, both bitter and sweet.\\nBut how to grasp, how to discern,\\nThe hidden patterns, the lessons to learn?\\n\\nThen came a whisper, a digital hum,\\nOf a framework born, for all to become\\nMasters of language, with tools so keen,\\nA chain of logic, a powerful machine.\\nThey called it LangChain, a name to recall,\\nA bridge to knowledge, standing up tall.\\n\\nIts core was the model, a mind of its own,\\nTrained on the data, seeds widely sown.\\nBut raw potential, like a diamond rough,\\nNeeded a structure, a guiding enough.\\nSo LangChain arose, with its modules bright,\\nTo shape the responses, and bring forth the light.\\n\\nFirst came the prompts, the questions we pose,\\nCrafted with care, as the story unfolds.\\nThen the parsers, with their diligent eye,\\nExtracting the meaning, as the answers fly.\\nThe agents then acted, with purpose and grace,\\nNavigating the web, at a rapid pace.\\n\\nThey'd search through the databases, deep and wide,\\nGathering the facts, with nothing to hide.\\nThey'd reason and plan, with logic so clear,\\nConnecting the dots, banishing fear.\\nAnd finally, the output, refined and precise,\\nA tapestry woven, of knowledge and vice.\\n\\nFrom chatbots that chatted, with wit and with charm,\\nTo code generators, keeping us warm.\\nFrom document summarizers, concise and so neat,\\nTo creative writers, with stories to meet.\\nLangChain empowered, with tools at our hand,\\nTo conquer the chaos, across the whole land.\\n\\nBut the journey's not over, the work is not done,\\nThe potential is vast, the race has begun.\\nFor LangChain evolves, with each passing day,\\nNew features emerge, to light up the way.\\nSo let us embrace it, this powerful tool,\\nAnd unlock the secrets, of language's cool rule.\\n\\nSo raise a glass high, to the Chain of the Word,\\nA framework that's changing, all that we've heard.\\nMay its power continue, to grow and to bloom,\\nAnd illuminate knowledge, dispelling the gloom.\\nFor LangChain is here, a force to behold,\\nA story of language, forever to be told.\", additional_kwargs={}, response_metadata={'prompt_feedback': {'block_reason': 0, 'safety_ratings': []}, 'finish_reason': 'STOP', 'safety_ratings': [{'category': 'HARM_CATEGORY_HATE_SPEECH', 'probability': 'NEGLIGIBLE', 'blocked': False}, {'category': 'HARM_CATEGORY_DANGEROUS_CONTENT', 'probability': 'NEGLIGIBLE', 'blocked': False}, {'category': 'HARM_CATEGORY_HARASSMENT', 'probability': 'NEGLIGIBLE', 'blocked': False}, {'category': 'HARM_CATEGORY_SEXUALLY_EXPLICIT', 'probability': 'NEGLIGIBLE', 'blocked': False}]}, id='run-649af25f-aadb-4c45-b8bb-0f8d35606043-0', usage_metadata={'input_tokens': 8, 'output_tokens': 563, 'total_tokens': 571, 'input_token_details': {'cache_read': 0}})"
      ]
     },
     "execution_count": 55,
     "metadata": {},
     "output_type": "execute_result"
    }
   ],
   "source": [
    "llm.invoke(\"Write me a ballad about LangChain\")"
   ]
  },
  {
   "cell_type": "code",
   "execution_count": 46,
   "id": "b39922ec",
   "metadata": {},
   "outputs": [
    {
     "data": {
      "text/plain": [
       "<langchain_community.utilities.sql_database.SQLDatabase at 0x13c879390>"
      ]
     },
     "execution_count": 46,
     "metadata": {},
     "output_type": "execute_result"
    }
   ],
   "source": [
    "conn_string = \"sqlite:///sales.db\"\n",
    "db = SQLDatabase.from_uri(conn_string)\n",
    "db"
   ]
  },
  {
   "cell_type": "code",
   "execution_count": 47,
   "id": "7bf1f695",
   "metadata": {},
   "outputs": [
    {
     "data": {
      "text/plain": [
       "'[(0, 21, 1, 10.0), (1, 22, 2, 15.0), (2, 23, 3, 20.0), (3, 24, 4, 5.0), (4, 25, 5, 25.0), (5, 26, 6, 10.0), (6, 27, 7, 30.0), (7, 28, 8, 35.0), (8, 29, 9, 40.0), (9, 30, 10, 45.0)]'"
      ]
     },
     "execution_count": 47,
     "metadata": {},
     "output_type": "execute_result"
    }
   ],
   "source": [
    "db.run(\"SELECT * FROM discounts LIMIT 10;\")"
   ]
  },
  {
   "cell_type": "code",
   "execution_count": 48,
   "id": "f2d4a83e",
   "metadata": {},
   "outputs": [],
   "source": [
    "from langchain.chains import create_sql_query_chain\n",
    "q = \"How many t-shirts do we have left for nike in extra small size and white color?\""
   ]
  },
  {
   "cell_type": "code",
   "execution_count": 49,
   "id": "f26bd684",
   "metadata": {},
   "outputs": [
    {
     "data": {
      "text/plain": [
       "'SQLQuery: SELECT \"stock_quantity\" FROM \"t_shirts\" WHERE \"brand\" = \\'Nike\\' AND \"size\" = \\'XS\\' AND \"color\" = \\'White\\' LIMIT 5;'"
      ]
     },
     "execution_count": 49,
     "metadata": {},
     "output_type": "execute_result"
    }
   ],
   "source": [
    "chain = create_sql_query_chain(llm, db)\n",
    "response = chain.invoke({\"question\": \"How many t-shirts do we have left for nike in extra small size and white color?\"})\n",
    "response"
   ]
  },
  {
   "cell_type": "code",
   "execution_count": 50,
   "id": "970b48ac",
   "metadata": {},
   "outputs": [
    {
     "data": {
      "text/plain": [
       "' SELECT \"stock_quantity\" FROM \"t_shirts\" WHERE \"brand\" = \\'Nike\\' AND \"size\" = \\'XS\\' AND \"color\" = \\'White\\' LIMIT 5;'"
      ]
     },
     "execution_count": 50,
     "metadata": {},
     "output_type": "execute_result"
    }
   ],
   "source": [
    "response.split(':')[1]"
   ]
  },
  {
   "cell_type": "code",
   "execution_count": 51,
   "id": "61c2ba6e",
   "metadata": {},
   "outputs": [
    {
     "data": {
      "text/plain": [
       "'[(25,)]'"
      ]
     },
     "execution_count": 51,
     "metadata": {},
     "output_type": "execute_result"
    }
   ],
   "source": [
    "db.run(response.split(':')[1])"
   ]
  },
  {
   "cell_type": "code",
   "execution_count": 52,
   "id": "22e9efd2",
   "metadata": {},
   "outputs": [
    {
     "name": "stdout",
     "output_type": "stream",
     "text": [
      "You are a SQLite expert. Given an input question, first create a syntactically correct SQLite query to run, then look at the results of the query and return the answer to the input question.\n",
      "Unless the user specifies in the question a specific number of examples to obtain, query for at most 5 results using the LIMIT clause as per SQLite. You can order the results to return the most informative data in the database.\n",
      "Never query for all columns from a table. You must query only the columns that are needed to answer the question. Wrap each column name in double quotes (\") to denote them as delimited identifiers.\n",
      "Pay attention to use only the column names you can see in the tables below. Be careful to not query for columns that do not exist. Also, pay attention to which column is in which table.\n",
      "Pay attention to use date('now') function to get the current date, if the question involves \"today\".\n",
      "\n",
      "Use the following format:\n",
      "\n",
      "Question: Question here\n",
      "SQLQuery: SQL Query to run\n",
      "SQLResult: Result of the SQLQuery\n",
      "Answer: Final answer here\n",
      "\n",
      "Only use the following tables:\n",
      "\u001b[33;1m\u001b[1;3m{table_info}\u001b[0m\n",
      "\n",
      "Question: \u001b[33;1m\u001b[1;3m{input}\u001b[0m\n"
     ]
    }
   ],
   "source": [
    "chain.get_prompts()[0].pretty_print()"
   ]
  },
  {
   "cell_type": "code",
   "execution_count": 56,
   "id": "904ee05a",
   "metadata": {},
   "outputs": [
    {
     "data": {
      "text/plain": [
       "[QuerySQLDatabaseTool(description=\"Input to this tool is a detailed and correct SQL query, output is a result from the database. If the query is not correct, an error message will be returned. If an error is returned, rewrite the query, check the query, and try again. If you encounter an issue with Unknown column 'xxxx' in 'field list', use sql_db_schema to query the correct table fields.\", db=<langchain_community.utilities.sql_database.SQLDatabase object at 0x13c879390>),\n",
       " InfoSQLDatabaseTool(description='Input to this tool is a comma-separated list of tables, output is the schema and sample rows for those tables. Be sure that the tables actually exist by calling sql_db_list_tables first! Example Input: table1, table2, table3', db=<langchain_community.utilities.sql_database.SQLDatabase object at 0x13c879390>),\n",
       " ListSQLDatabaseTool(db=<langchain_community.utilities.sql_database.SQLDatabase object at 0x13c879390>),\n",
       " QuerySQLCheckerTool(description='Use this tool to double check if your query is correct before executing it. Always use this tool before executing a query with sql_db_query!', db=<langchain_community.utilities.sql_database.SQLDatabase object at 0x13c879390>, llm=ChatGoogleGenerativeAI(model='models/gemini-2.0-flash-exp', google_api_key=SecretStr('**********'), temperature=0.0, client=<google.ai.generativelanguage_v1beta.services.generative_service.client.GenerativeServiceClient object at 0x11ff40c50>, default_metadata=()), llm_chain=LLMChain(verbose=False, prompt=PromptTemplate(input_variables=['dialect', 'query'], input_types={}, partial_variables={}, template='\\n{query}\\nDouble check the {dialect} query above for common mistakes, including:\\n- Using NOT IN with NULL values\\n- Using UNION when UNION ALL should have been used\\n- Using BETWEEN for exclusive ranges\\n- Data type mismatch in predicates\\n- Properly quoting identifiers\\n- Using the correct number of arguments for functions\\n- Casting to the correct data type\\n- Using the proper columns for joins\\n\\nIf there are any of the above mistakes, rewrite the query. If there are no mistakes, just reproduce the original query.\\n\\nOutput the final SQL query only.\\n\\nSQL Query: '), llm=ChatGoogleGenerativeAI(model='models/gemini-2.0-flash-exp', google_api_key=SecretStr('**********'), temperature=0.0, client=<google.ai.generativelanguage_v1beta.services.generative_service.client.GenerativeServiceClient object at 0x11ff40c50>, default_metadata=()), output_parser=StrOutputParser(), llm_kwargs={}))]"
      ]
     },
     "execution_count": 56,
     "metadata": {},
     "output_type": "execute_result"
    }
   ],
   "source": [
    "from langchain_community.agent_toolkits import SQLDatabaseToolkit\n",
    "\n",
    "toolkit = SQLDatabaseToolkit(db=db, llm=llm)\n",
    "\n",
    "tools = toolkit.get_tools()\n",
    "\n",
    "tools"
   ]
  },
  {
   "cell_type": "code",
   "execution_count": null,
   "id": "6d6e67d6",
   "metadata": {},
   "outputs": [
    {
     "name": "stdout",
     "output_type": "stream",
     "text": [
      "\n",
      "\n",
      "\u001b[1m> Entering new SQL Agent Executor chain...\u001b[0m\n",
      "\u001b[32;1m\u001b[1;3mAction: sql_db_list_tables\n",
      "Action Input:\u001b[0m\u001b[38;5;200m\u001b[1;3mdiscounts, t_shirts\u001b[0m\u001b[32;1m\u001b[1;3mI should query the schema of the t_shirts table to see the columns available.\n",
      "Action: sql_db_schema\n",
      "Action Input: t_shirts\u001b[0m\u001b[33;1m\u001b[1;3m\n",
      "CREATE TABLE t_shirts (\n",
      "\t\"index\" BIGINT, \n",
      "\tt_shirt_id BIGINT, \n",
      "\tbrand TEXT, \n",
      "\tcolor TEXT, \n",
      "\tsize TEXT, \n",
      "\tprice BIGINT, \n",
      "\tstock_quantity BIGINT\n",
      ")\n",
      "\n",
      "/*\n",
      "3 rows from t_shirts table:\n",
      "index\tt_shirt_id\tbrand\tcolor\tsize\tprice\tstock_quantity\n",
      "0\t1\tAdidas\tBlack\tM\t44\t57\n",
      "1\t2\tVan Huesen\tWhite\tS\t48\t65\n",
      "2\t3\tLevi\tBlack\tXS\t39\t33\n",
      "*/\u001b[0m\u001b[32;1m\u001b[1;3mI should query the t_shirts table to find the number of t-shirts that match the criteria.\n",
      "Action: sql_db_query_checker\n",
      "Action Input: SELECT stock_quantity FROM t_shirts WHERE brand = \"Nike\" AND color = \"White\" AND size = \"XS\"\u001b[0m\u001b[36;1m\u001b[1;3m```sql\n",
      "SELECT stock_quantity FROM t_shirts WHERE brand = \"Nike\" AND color = \"White\" AND size = \"XS\"\n",
      "```\u001b[0m\u001b[32;1m\u001b[1;3mI should execute the query to find the number of t-shirts that match the criteria.\n",
      "Action: sql_db_query\n",
      "Action Input: SELECT stock_quantity FROM t_shirts WHERE brand = \"Nike\" AND color = \"White\" AND size = \"XS\"\u001b[0m\u001b[36;1m\u001b[1;3mError: (sqlite3.OperationalError) unrecognized token: \"\"XS\"\n",
      "[SQL: SELECT stock_quantity FROM t_shirts WHERE brand = \"Nike\" AND color = \"White\" AND size = \"XS]\n",
      "(Background on this error at: https://sqlalche.me/e/20/e3q8)\u001b[0m\u001b[32;1m\u001b[1;3mI made a mistake in the query, I should use single quotes for the string values.\n",
      "Action: sql_db_query_checker\n",
      "Action Input: SELECT stock_quantity FROM t_shirts WHERE brand = 'Nike' AND color = 'White' AND size = 'XS'\u001b[0m\u001b[36;1m\u001b[1;3m```sql\n",
      "SELECT stock_quantity FROM t_shirts WHERE brand = 'Nike' AND color = 'White' AND size = 'XS'\n",
      "```\u001b[0m"
     ]
    },
    {
     "name": "stderr",
     "output_type": "stream",
     "text": [
      "Retrying langchain_google_genai.chat_models._chat_with_retry.<locals>._chat_with_retry in 2.0 seconds as it raised ResourceExhausted: 429 Resource has been exhausted (e.g. check quota)..\n"
     ]
    },
    {
     "name": "stdout",
     "output_type": "stream",
     "text": [
      "\u001b[32;1m\u001b[1;3mI should execute the query to find the number of t-shirts that match the criteria.\n",
      "Action: sql_db_query\n",
      "Action Input: SELECT stock_quantity FROM t_shirts WHERE brand = 'Nike' AND color = 'White' AND size = 'XS'\u001b[0m\u001b[36;1m\u001b[1;3m[(25,)]\u001b[0m\u001b[32;1m\u001b[1;3mI now know the final answer\n",
      "Final Answer: 25\u001b[0m\n",
      "\n",
      "\u001b[1m> Finished chain.\u001b[0m\n"
     ]
    },
    {
     "data": {
      "text/plain": [
       "'25'"
      ]
     },
     "execution_count": 65,
     "metadata": {},
     "output_type": "execute_result"
    }
   ],
   "source": [
    "toolkit = SQLDatabaseToolkit(db=db, llm=llm)\n",
    "agent = create_sql_agent(llm=llm, toolkit=toolkit, verbose=True)\n",
    "response = agent.invoke(q)[\"output\"]\n",
    "response"
   ]
  },
  {
   "cell_type": "code",
   "execution_count": 66,
   "id": "745cd561",
   "metadata": {},
   "outputs": [
    {
     "name": "stdout",
     "output_type": "stream",
     "text": [
      "\n",
      "\n",
      "\u001b[1m> Entering new SQL Agent Executor chain...\u001b[0m\n",
      "\u001b[32;1m\u001b[1;3mAction: sql_db_list_tables\n",
      "Action Input:\u001b[0m\u001b[38;5;200m\u001b[1;3mdiscounts, t_shirts\u001b[0m\u001b[32;1m\u001b[1;3mThe tables are discounts and t_shirts. I should query the schema of the t_shirts table.\n",
      "Action: sql_db_schema\n",
      "Action Input: t_shirts\u001b[0m\u001b[33;1m\u001b[1;3m\n",
      "CREATE TABLE t_shirts (\n",
      "\t\"index\" BIGINT, \n",
      "\tt_shirt_id BIGINT, \n",
      "\tbrand TEXT, \n",
      "\tcolor TEXT, \n",
      "\tsize TEXT, \n",
      "\tprice BIGINT, \n",
      "\tstock_quantity BIGINT\n",
      ")\n",
      "\n",
      "/*\n",
      "3 rows from t_shirts table:\n",
      "index\tt_shirt_id\tbrand\tcolor\tsize\tprice\tstock_quantity\n",
      "0\t1\tAdidas\tBlack\tM\t44\t57\n",
      "1\t2\tVan Huesen\tWhite\tS\t48\t65\n",
      "2\t3\tLevi\tBlack\tXS\t39\t33\n",
      "*/\u001b[0m\u001b[32;1m\u001b[1;3mI should query the t_shirts table to find the price and stock quantity of all small size t-shirts. Then I should multiply the price and stock quantity to find the inventory value. Finally, I should sum the inventory value for all small size t-shirts.\n",
      "Action: sql_db_query\n",
      "Action Input: SELECT SUM(price * stock_quantity) FROM t_shirts WHERE size = 'S'\u001b[0m\u001b[36;1m\u001b[1;3m[(25416,)]\u001b[0m\u001b[32;1m\u001b[1;3mI now know the final answer\n",
      "Final Answer: The total price of the inventory for all small size t-shirts is 25416.\u001b[0m\n",
      "\n",
      "\u001b[1m> Finished chain.\u001b[0m\n"
     ]
    },
    {
     "data": {
      "text/plain": [
       "'The total price of the inventory for all small size t-shirts is 25416.'"
      ]
     },
     "execution_count": 66,
     "metadata": {},
     "output_type": "execute_result"
    }
   ],
   "source": [
    "q2 = \"How much is the price of the inventory for all small size t-shirts?\"\n",
    "agent.invoke(q2)[\"output\"]"
   ]
  },
  {
   "cell_type": "code",
   "execution_count": 67,
   "id": "112d3aab",
   "metadata": {},
   "outputs": [
    {
     "name": "stdout",
     "output_type": "stream",
     "text": [
      "\n",
      "\n",
      "\u001b[1m> Entering new SQL Agent Executor chain...\u001b[0m\n",
      "\u001b[32;1m\u001b[1;3mAction: sql_db_list_tables\n",
      "Action Input:\u001b[0m\u001b[38;5;200m\u001b[1;3mdiscounts, t_shirts\u001b[0m\u001b[32;1m\u001b[1;3mI should query the schema of the discounts and t_shirts tables to see what information they contain.\n",
      "Action: sql_db_schema\n",
      "Action Input: discounts, t_shirts\u001b[0m\u001b[33;1m\u001b[1;3m\n",
      "CREATE TABLE discounts (\n",
      "\t\"index\" BIGINT, \n",
      "\tdiscount_id BIGINT, \n",
      "\tt_shirt_id BIGINT, \n",
      "\tpct_discount FLOAT\n",
      ")\n",
      "\n",
      "/*\n",
      "3 rows from discounts table:\n",
      "index\tdiscount_id\tt_shirt_id\tpct_discount\n",
      "0\t21\t1\t10.0\n",
      "1\t22\t2\t15.0\n",
      "2\t23\t3\t20.0\n",
      "*/\n",
      "\n",
      "\n",
      "CREATE TABLE t_shirts (\n",
      "\t\"index\" BIGINT, \n",
      "\tt_shirt_id BIGINT, \n",
      "\tbrand TEXT, \n",
      "\tcolor TEXT, \n",
      "\tsize TEXT, \n",
      "\tprice BIGINT, \n",
      "\tstock_quantity BIGINT\n",
      ")\n",
      "\n",
      "/*\n",
      "3 rows from t_shirts table:\n",
      "index\tt_shirt_id\tbrand\tcolor\tsize\tprice\tstock_quantity\n",
      "0\t1\tAdidas\tBlack\tM\t44\t57\n",
      "1\t2\tVan Huesen\tWhite\tS\t48\t65\n",
      "2\t3\tLevi\tBlack\tXS\t39\t33\n",
      "*/\u001b[0m\u001b[32;1m\u001b[1;3mI need to calculate the revenue generated from selling all Levi's t-shirts after applying discounts. I need to join the `t_shirts` and `discounts` tables on `t_shirt_id`, filter for Levi's t-shirts, calculate the discounted price for each t-shirt, multiply by the stock quantity, and sum the results.\n",
      "Action: sql_db_query_checker\n",
      "Action Input: SELECT SUM((t.price * (1 - (d.pct_discount / 100.0))) * t.stock_quantity) FROM t_shirts t JOIN discounts d ON t.t_shirt_id = d.t_shirt_id WHERE t.brand = 'Levi'\u001b[0m\u001b[36;1m\u001b[1;3m```sqlite\n",
      "SELECT SUM((t.price * (1 - (d.pct_discount / 100.0))) * t.stock_quantity) FROM t_shirts t JOIN discounts d ON t.t_shirt_id = d.t_shirt_id WHERE t.brand = 'Levi'\n",
      "```\u001b[0m\u001b[32;1m\u001b[1;3mAction: sql_db_query\n",
      "Action Input: SELECT SUM((t.price * (1 - (d.pct_discount / 100.0))) * t.stock_quantity) FROM t_shirts t JOIN discounts d ON t.t_shirt_id = d.t_shirt_id WHERE t.brand = 'Levi'\u001b[0m\u001b[36;1m\u001b[1;3m[(2653.5000000000005,)]\u001b[0m\u001b[32;1m\u001b[1;3mI now know the final answer\n",
      "Final Answer: 2653.5\u001b[0m\n",
      "\n",
      "\u001b[1m> Finished chain.\u001b[0m\n"
     ]
    },
    {
     "data": {
      "text/plain": [
       "'2653.5'"
      ]
     },
     "execution_count": 67,
     "metadata": {},
     "output_type": "execute_result"
    }
   ],
   "source": [
    "q3 = \"If we have to sell all the Levi’s T-shirts today with discounts applied. How much revenue our store will generate (post discounts)?\"\n",
    "agent.invoke(q3)[\"output\"]"
   ]
  },
  {
   "cell_type": "code",
   "execution_count": 69,
   "id": "3e9a554f",
   "metadata": {},
   "outputs": [
    {
     "name": "stdout",
     "output_type": "stream",
     "text": [
      "\n",
      "\n",
      "\u001b[1m> Entering new SQL Agent Executor chain...\u001b[0m\n",
      "\u001b[32;1m\u001b[1;3mAction: sql_db_list_tables\n",
      "Action Input:\u001b[0m\u001b[38;5;200m\u001b[1;3mdiscounts, t_shirts\u001b[0m\u001b[32;1m\u001b[1;3mThe tables are discounts and t_shirts. I should look at the schema of the t_shirts table to see what columns are available.\n",
      "Action: sql_db_schema\n",
      "Action Input: t_shirts\u001b[0m\u001b[33;1m\u001b[1;3m\n",
      "CREATE TABLE t_shirts (\n",
      "\t\"index\" BIGINT, \n",
      "\tt_shirt_id BIGINT, \n",
      "\tbrand TEXT, \n",
      "\tcolor TEXT, \n",
      "\tsize TEXT, \n",
      "\tprice BIGINT, \n",
      "\tstock_quantity BIGINT\n",
      ")\n",
      "\n",
      "/*\n",
      "3 rows from t_shirts table:\n",
      "index\tt_shirt_id\tbrand\tcolor\tsize\tprice\tstock_quantity\n",
      "0\t1\tAdidas\tBlack\tM\t44\t57\n",
      "1\t2\tVan Huesen\tWhite\tS\t48\t65\n",
      "2\t3\tLevi\tBlack\tXS\t39\t33\n",
      "*/\u001b[0m\u001b[32;1m\u001b[1;3mI should query the t_shirts table to find the total price of all S-size t-shirts. I need to multiply the price by the stock quantity for each S-size t-shirt and then sum the results.\n",
      "Action: sql_db_query_checker\n",
      "Action Input: SELECT SUM(price * stock_quantity) FROM t_shirts WHERE size = 'S'\u001b[0m\u001b[36;1m\u001b[1;3mSELECT SUM(price * stock_quantity) FROM t_shirts WHERE size = 'S'\u001b[0m\u001b[32;1m\u001b[1;3mAction: sql_db_query\n",
      "Action Input: SELECT SUM(price * stock_quantity) FROM t_shirts WHERE size = 'S'\u001b[0m\u001b[36;1m\u001b[1;3m[(25416,)]\u001b[0m\u001b[32;1m\u001b[1;3mI now know the final answer\n",
      "Final Answer: 25416\u001b[0m\n",
      "\n",
      "\u001b[1m> Finished chain.\u001b[0m\n"
     ]
    },
    {
     "data": {
      "text/plain": [
       "'25416'"
      ]
     },
     "execution_count": 69,
     "metadata": {},
     "output_type": "execute_result"
    }
   ],
   "source": [
    "q4 = \"How much is the total price of the inventory for all S-size t-shirts?\"\n",
    "agent.invoke(q4)[\"output\"]"
   ]
  },
  {
   "cell_type": "markdown",
   "id": "a79cad26",
   "metadata": {},
   "source": []
  },
  {
   "cell_type": "code",
   "execution_count": null,
   "id": "edec0ad0",
   "metadata": {},
   "outputs": [],
   "source": []
  }
 ],
 "metadata": {
  "kernelspec": {
   "display_name": "llm",
   "language": "python",
   "name": "python3"
  },
  "language_info": {
   "codemirror_mode": {
    "name": "ipython",
    "version": 3
   },
   "file_extension": ".py",
   "mimetype": "text/x-python",
   "name": "python",
   "nbconvert_exporter": "python",
   "pygments_lexer": "ipython3",
   "version": "3.11.7"
  }
 },
 "nbformat": 4,
 "nbformat_minor": 5
}
